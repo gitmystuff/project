{
  "nbformat": 4,
  "nbformat_minor": 0,
  "metadata": {
    "colab": {
      "provenance": [],
      "authorship_tag": "ABX9TyOvGQepy1/Xep/yNDnuIU66",
      "include_colab_link": true
    },
    "kernelspec": {
      "name": "python3",
      "display_name": "Python 3"
    },
    "language_info": {
      "name": "python"
    }
  },
  "cells": [
    {
      "cell_type": "markdown",
      "metadata": {
        "id": "view-in-github",
        "colab_type": "text"
      },
      "source": [
        "<a href=\"https://colab.research.google.com/github/gitmystuff/project/blob/main/project_playground.ipynb\" target=\"_parent\"><img src=\"https://colab.research.google.com/assets/colab-badge.svg\" alt=\"Open In Colab\"/></a>"
      ]
    },
    {
      "cell_type": "code",
      "execution_count": 1,
      "metadata": {
        "id": "ExpXHcGhP_w7"
      },
      "outputs": [],
      "source": [
        "import zipfile\n",
        "\n",
        "zipfile.ZipFile('project.zip').extractall('.')"
      ]
    },
    {
      "cell_type": "code",
      "source": [
        "from dtsc5502.version import __version__\n",
        "import dtsc5502.statistics as stats\n",
        "import dtsc5502.probabilities as probs\n",
        "\n",
        "print(__version__)\n",
        "lst = [1,2,3]\n",
        "print(stats.descriptive.mean(lst))\n",
        "print(probs.functions.factorial(3))\n"
      ],
      "metadata": {
        "colab": {
          "base_uri": "https://localhost:8080/"
        },
        "id": "r5DBQf2IRL8x",
        "outputId": "651beb4e-d942-4e94-a7ab-9a4ed9142ec7"
      },
      "execution_count": 4,
      "outputs": [
        {
          "output_type": "stream",
          "name": "stdout",
          "text": [
            "DTSC5502 Version: 0.1.0\n",
            "2.0\n",
            "6\n"
          ]
        }
      ]
    },
    {
      "cell_type": "code",
      "source": [
        "! git clone https://github.com/gitmystuff/project.git"
      ],
      "metadata": {
        "colab": {
          "base_uri": "https://localhost:8080/"
        },
        "id": "za6Gyy-oWQNQ",
        "outputId": "1afa13e1-9670-4567-fbf5-b4aa712599f5"
      },
      "execution_count": 1,
      "outputs": [
        {
          "output_type": "stream",
          "name": "stdout",
          "text": [
            "Cloning into 'project'...\n",
            "remote: Enumerating objects: 15, done.\u001b[K\n",
            "remote: Counting objects: 100% (15/15), done.\u001b[K\n",
            "remote: Compressing objects: 100% (12/12), done.\u001b[K\n",
            "remote: Total 15 (delta 1), reused 15 (delta 1), pack-reused 0\u001b[K\n",
            "Receiving objects: 100% (15/15), done.\n",
            "Resolving deltas: 100% (1/1), done.\n"
          ]
        }
      ]
    },
    {
      "cell_type": "code",
      "source": [
        "from project.dtsc5502.version import __version__\n",
        "import project.dtsc5502.statistics as stats\n",
        "import project.dtsc5502.probabilities as probs\n",
        "\n",
        "print(__version__)\n",
        "lst = [1,2,3]\n",
        "print(stats.descriptive.mean(lst))\n",
        "print(probs.functions.factorial(3))"
      ],
      "metadata": {
        "colab": {
          "base_uri": "https://localhost:8080/"
        },
        "id": "rEkbBR7MW1Es",
        "outputId": "e6d2dfbb-4724-4621-bbe5-55372dc0ff0e"
      },
      "execution_count": 2,
      "outputs": [
        {
          "output_type": "stream",
          "name": "stdout",
          "text": [
            "DTSC5502 Version: 0.1.0\n",
            "2.0\n",
            "6\n"
          ]
        }
      ]
    }
  ]
}